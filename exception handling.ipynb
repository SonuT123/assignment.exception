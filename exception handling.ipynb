{
 "cells": [
  {
   "cell_type": "markdown",
   "id": "b6fb2775-12b5-417b-a41b-bc6753790a71",
   "metadata": {},
   "source": [
    "                                          Assignment"
   ]
  },
  {
   "cell_type": "markdown",
   "id": "fd6b8128-c6d5-4354-92c1-b4a37c24fd89",
   "metadata": {},
   "source": [
    "Q1. What is an Exception in python? write the difference between Exception and syntax errors."
   ]
  },
  {
   "cell_type": "markdown",
   "id": "d222b1f7-3eb2-43f4-bb54-34a378fbb0be",
   "metadata": {},
   "source": [
    "answer:-  exception in Python is an event that occurs during the execution of a program,\n",
    "          which disrupts the normal flow of the program's instructions. When an exception is raised,\n",
    "          the program's execution is immediately halted,\n",
    "          and Python looks for an exception handler to handle the exception.\n",
    "            \n",
    "            \n",
    "            \n",
    "   # Differences between exceptions and syntax errors: \n",
    "   \n",
    "    syntax errors                                                           \n",
    "    \n",
    "    Syntax errors are errors in the structure of the code, such as missing or incorrect punctuation,\n",
    "    keywords, or operators. These errors prevent the compiler from understanding the code,\n",
    "    and so the program cannot be run.\n",
    "    \n",
    "        1.Compile time\n",
    "        2.Missing or incorrect punctuation, keywords, or operators\n",
    "        3.Prevents the compiler from understanding the code and so the program cannot be run\n",
    "        \n",
    "\n",
    "    \n",
    "    Exceptions are errors that occur during the execution of the program.\n",
    "    These errors can be caused by a variety of factors, such as invalid input,\n",
    "    accessing a non-existent object, or dividing by zero.\n",
    "    When an exception occurs, the program will stop executing at the point of the error and raise an exception object.\n",
    "    \n",
    "   1. Runtime\n",
    "      Invalid input,\n",
    "   2. accessing a non-existent object, dividing by zero, etc.\n",
    "   3. Program stops executing at the point of the error and raises an exception object\n",
    "    "
   ]
  },
  {
   "cell_type": "markdown",
   "id": "650f751d-1d3f-4e4b-b901-af20d244477a",
   "metadata": {},
   "source": [
    "2.what happens when an exception is not handled? explain with an example."
   ]
  },
  {
   "cell_type": "markdown",
   "id": "d84e25b6-9160-4e4c-9f1a-f045460fb74d",
   "metadata": {},
   "source": [
    "answer:-\n",
    "       When an exception is not handled, it leads to an abnormal termination of the program.\n",
    "       This means that the program execution will be interrupted,\n",
    "       and an error message or stack trace will be displayed to indicate the unhandled exception.\n",
    "       Additionally, any remaining code after the point of the unhandled exception will not be executed\n",
    "       \n",
    "       \n",
    "       "
   ]
  },
  {
   "cell_type": "code",
   "execution_count": 1,
   "id": "cab2ac0a-f72d-4c80-be0e-8339ab36b356",
   "metadata": {},
   "outputs": [
    {
     "name": "stdin",
     "output_type": "stream",
     "text": [
      "Enter the first number:  500\n",
      "Enter the second number:  2\n"
     ]
    },
    {
     "name": "stdout",
     "output_type": "stream",
     "text": [
      "Result:  250.0\n"
     ]
    }
   ],
   "source": [
    "def divide_numbers(a, b):\n",
    "    result = a / b\n",
    "    return result\n",
    "\n",
    "try:\n",
    "    num1 = int(input(\"Enter the first number: \"))\n",
    "    num2 = int(input(\"Enter the second number: \"))\n",
    "    result = divide_numbers(num1, num2)\n",
    "    print(\"Result: \", result)\n",
    "except ValueError:\n",
    "    print(\"Invalid input. Please enter a valid number.\")"
   ]
  },
  {
   "cell_type": "markdown",
   "id": "31044e4e-7f93-4e08-aedd-bcbf1d0fa27f",
   "metadata": {},
   "source": [
    "3. which python statement are used to catch and hande exception ? Explain with an example."
   ]
  },
  {
   "cell_type": "markdown",
   "id": "bcfd5ada-8a0b-4470-8df5-ee2bf0f12e54",
   "metadata": {},
   "source": [
    "answer :- \n",
    "\n",
    "       In Python, the try-except statement is used to catch and handle exceptions.\n",
    "       It allows you to specify a block of code that might raise an exception "
   ]
  },
  {
   "cell_type": "code",
   "execution_count": 2,
   "id": "8c0fdb59-60d8-49b7-bf7c-3a11d4ff1ad9",
   "metadata": {},
   "outputs": [
    {
     "name": "stdin",
     "output_type": "stream",
     "text": [
      "Enter the first number:  545\n",
      "Enter the second number:  526\n"
     ]
    },
    {
     "name": "stdout",
     "output_type": "stream",
     "text": [
      "Result:  1.0361216730038023\n"
     ]
    }
   ],
   "source": [
    " def divide_numbers(a, b):\n",
    "    result = a / b\n",
    "    return result\n",
    "\n",
    "try:\n",
    "    num1 = int(input(\"Enter the first number: \"))\n",
    "    num2 = int(input(\"Enter the second number: \"))\n",
    "    result = divide_numbers(num1, num2)\n",
    "    print(\"Result: \", result)\n",
    "except ValueError:\n",
    "    print(\"Invalid input. Please enter a valid number.\")\n",
    "except ZeroDivisionError:\n",
    "    print(\"Cannot divide by zero.\")"
   ]
  },
  {
   "cell_type": "markdown",
   "id": "c0e797e0-34ca-40a2-94ec-29b61586fa28",
   "metadata": {},
   "source": [
    "try block contains the code that may raise exceptions.\n",
    "Inside the try block, the user is prompted to enter two numbers,\n",
    "and the divide_numbers \n",
    "\n",
    "\n",
    "except blocks defined.\n",
    "The first except block catches the ValueError exception,\n",
    "which occurs when the user enters invalid input\n",
    "\n",
    "\n",
    "second except block catches the ZeroDivisionError exception,\n",
    "which occurs when the second number provided by the user is zero.\n",
    "It displays an error message indicating that division by zero is not allowed.\n",
    "\n",
    "\n",
    "\n",
    "If any of these exceptions occur, the respective except block is executed,\n",
    "and the program continues to run without terminating abruptly.\n",
    "The remaining code after the except block will be executed.\n"
   ]
  },
  {
   "cell_type": "markdown",
   "id": "51c362f3-3a0f-4508-b6c1-15d4e787578b",
   "metadata": {},
   "source": [
    "4. explain with an example\n",
    " \n",
    "    a. try and else\n",
    "    b. finally\n",
    "    c. raise"
   ]
  },
  {
   "cell_type": "markdown",
   "id": "9d2a4d3e-7438-4e90-866f-dd47aa9e3332",
   "metadata": {},
   "source": [
    "a. try and else:\n",
    "             The try and else statements are used together to handle exceptions and define a block of\n",
    "             code to be executed when no exceptions occur within the try block."
   ]
  },
  {
   "cell_type": "code",
   "execution_count": 3,
   "id": "f2f64dff-c56b-45ad-8235-ccf1cea32f6f",
   "metadata": {},
   "outputs": [
    {
     "name": "stdin",
     "output_type": "stream",
     "text": [
      "Enter the numerator:  5625\n",
      "Enter the denominator:  986\n"
     ]
    },
    {
     "name": "stdout",
     "output_type": "stream",
     "text": [
      "Division result: 5.704868154158215\n"
     ]
    }
   ],
   "source": [
    "try:\n",
    "    num1 = int(input(\"Enter the numerator: \"))\n",
    "    num2 = int(input(\"Enter the denominator: \"))\n",
    "    result = num1 / num2\n",
    "except ValueError:\n",
    "    print(\"Invalid input. Please enter a valid number.\")\n",
    "else:\n",
    "    print(\"Division result:\", result)"
   ]
  },
  {
   "cell_type": "markdown",
   "id": "2e43ac13-37b7-4856-9fd1-b118519f84ca",
   "metadata": {},
   "source": [
    " example:- the try block contains code that may raise a ValueError if the user enters invalid input.\n",
    "    If a ValueError exception occurs, it will be caught by the except block and the corresponding\n",
    "    error message will be displayed.\n",
    "\n",
    "However, if no exception occurs, the code inside the else block will be executed.\n",
    "In this case, the division operation will be performed, and the result will be printed."
   ]
  },
  {
   "cell_type": "code",
   "execution_count": 11,
   "id": "7b5ab351-fd5d-400f-ad61-e9a5b8e79003",
   "metadata": {},
   "outputs": [],
   "source": [
    "# b. 'finally'"
   ]
  },
  {
   "cell_type": "code",
   "execution_count": 12,
   "id": "01fbf5eb-a397-4859-89b2-7cfc7ac53da3",
   "metadata": {},
   "outputs": [
    {
     "name": "stdout",
     "output_type": "stream",
     "text": [
      "File not found.\n"
     ]
    },
    {
     "ename": "NameError",
     "evalue": "name 'file' is not defined",
     "output_type": "error",
     "traceback": [
      "\u001b[0;31m---------------------------------------------------------------------------\u001b[0m",
      "\u001b[0;31mNameError\u001b[0m                                 Traceback (most recent call last)",
      "Cell \u001b[0;32mIn[12], line 8\u001b[0m\n\u001b[1;32m      6\u001b[0m     \u001b[38;5;28mprint\u001b[39m(\u001b[38;5;124m\"\u001b[39m\u001b[38;5;124mFile not found.\u001b[39m\u001b[38;5;124m\"\u001b[39m)\n\u001b[1;32m      7\u001b[0m \u001b[38;5;28;01mfinally\u001b[39;00m:\n\u001b[0;32m----> 8\u001b[0m     \u001b[43mfile\u001b[49m\u001b[38;5;241m.\u001b[39mclose()\n",
      "\u001b[0;31mNameError\u001b[0m: name 'file' is not defined"
     ]
    }
   ],
   "source": [
    "try:\n",
    "    file = open(\"example.txt\", \"r\")\n",
    "    content = file.read()\n",
    "    print(content)\n",
    "except FileNotFoundError:\n",
    "    print(\"File not found.\")\n",
    "finally:\n",
    "    file.close()"
   ]
  },
  {
   "cell_type": "markdown",
   "id": "c3ba63e8-e124-4f45-9c36-d9ee0cfa870b",
   "metadata": {},
   "source": [
    "try block attempts to open a file named \"example.txt\" in read mode and reads its content.\n",
    "If a FileNotFoundError exception occurs because the file does not exist,\n",
    "the corresponding error message is displayed in the except block.\n",
    "\n",
    "\n",
    "     Regardless of whether an exception occurs or not, the finally block is always executed.\n",
    "     In this case, the file is closed using the file.close() statement,\n",
    "     ensuring that any open resources are properly released."
   ]
  },
  {
   "cell_type": "markdown",
   "id": "75042cd3-5fbd-4dcb-96c9-5274dac46a30",
   "metadata": {},
   "source": [
    "c. 'raise'"
   ]
  },
  {
   "cell_type": "code",
   "execution_count": 15,
   "id": "d2714a8d-c713-4f89-a8c0-83be794e5f5d",
   "metadata": {},
   "outputs": [
    {
     "name": "stdin",
     "output_type": "stream",
     "text": [
      "Enter your age:  19\n"
     ]
    },
    {
     "name": "stdout",
     "output_type": "stream",
     "text": [
      "Valid age.\n"
     ]
    }
   ],
   "source": [
    "def validate_age(age):\n",
    "    if age < 0:\n",
    "        raise ValueError(\"Age cannot be negative.\")\n",
    "    elif age < 18:\n",
    "        raise ValueError(\"You must be at least 18 years old.\")\n",
    "    else:\n",
    "        print(\"Valid age.\")\n",
    "\n",
    "try:\n",
    "    user_age = int(input(\"Enter your age: \"))\n",
    "    validate_age(user_age)\n",
    "except ValueError as e:\n",
    "    print(\"Invalid age:\", str(e))"
   ]
  },
  {
   "cell_type": "markdown",
   "id": "bff85355-9a52-46af-827c-d620194b39cb",
   "metadata": {},
   "source": [
    "validate_age function is defined to validate the age provided by the user.\n",
    "If the age is negative or less than 18, a ValueError exception is raised with an appropriate error message.\n",
    "\n",
    "In the try block, the user is prompted to enter their age, and the validate_age function is called.\n",
    "If a ValueError exception is raised within the function, it will be caught by the except block,\n",
    "and the corresponding error message will be displayed."
   ]
  },
  {
   "cell_type": "markdown",
   "id": "35caaffd-4b49-4727-baf4-53c9c7e399c5",
   "metadata": {},
   "source": [
    "5.  what are custom Exception in python? why do wo need custom exceptions? explain with an example."
   ]
  },
  {
   "cell_type": "code",
   "execution_count": 16,
   "id": "c41bc250-3f20-4c58-b94f-13520aa8930f",
   "metadata": {},
   "outputs": [],
   "source": [
    "#  Python, custom exceptions are user-defined exception classes that allow you to create and raise your own exceptions\n",
    "#     based on specific error conditions in your code. Custom exceptions provide a way to handle exceptional situations\n",
    "#     that are not covered by built-in exceptions.\n",
    "    \n",
    "    \n",
    "#     There are several reasons why we might need custom exceptions:\n",
    "\n",
    "\n",
    "#       1. Specificity: Custom exceptions allow you to define more specific error conditions in your code.\n",
    "#          By creating custom exception classes, you can provide more detailed and meaningful error\n",
    "#          messages to users or developers, making it easier to understand and handle the\n",
    "#          exceptional conditions that may occur.\n",
    "\n",
    "#       2. Modularity: Custom exceptions help in organizing and modularizing your code.\n",
    "#          By defining custom exceptions, you can encapsulate related error conditions\n",
    "#          and handle them in a consistent manner throughout your codebase.\n",
    "#         This improves code readability and maintainability.\n",
    "\n",
    "#       3. Differentiation: Custom exceptions enable you to differentiate between different types of errors.\n",
    "#          Instead of relying solely on built-in exceptions, you can create exception classes that are specific\n",
    "#          to your application's domain or logic. This allows for more targeted exception handling and helps in \n",
    "#          identifying and resolving issues more effectively."
   ]
  },
  {
   "cell_type": "code",
   "execution_count": 17,
   "id": "8de1fca5-4611-4439-8b84-2000894f54c2",
   "metadata": {},
   "outputs": [
    {
     "name": "stdin",
     "output_type": "stream",
     "text": [
      "Enter the withdrawal amount:  8000\n"
     ]
    },
    {
     "name": "stdout",
     "output_type": "stream",
     "text": [
      "Error: Insufficient funds in the account.\n"
     ]
    }
   ],
   "source": [
    "class InsufficientFundsError(Exception):\n",
    "    def __init__(self, message):\n",
    "        self.message = message\n",
    "\n",
    "class BankAccount:\n",
    "    def __init__(self, balance):\n",
    "        self.balance = balance\n",
    "\n",
    "    def withdraw(self, amount):\n",
    "        if amount > self.balance:\n",
    "            raise InsufficientFundsError(\"Insufficient funds in the account.\")\n",
    "        self.balance -= amount\n",
    "        print(\"Withdrawal successful.\")\n",
    "try:\n",
    "    account = BankAccount(1000)\n",
    "    withdrawal_amount = int(input(\"Enter the withdrawal amount: \"))\n",
    "    account.withdraw(withdrawal_amount)\n",
    "except InsufficientFundsError as e:\n",
    "    print(\"Error:\", str(e))"
   ]
  },
  {
   "cell_type": "code",
   "execution_count": 18,
   "id": "6da9fc7c-082a-4d6c-b7fc-9f69ef0f22d1",
   "metadata": {},
   "outputs": [
    {
     "data": {
      "text/plain": [
       "1000"
      ]
     },
     "execution_count": 18,
     "metadata": {},
     "output_type": "execute_result"
    }
   ],
   "source": [
    "account.balance"
   ]
  },
  {
   "cell_type": "code",
   "execution_count": 21,
   "id": "615af80c-d801-4883-88f4-2ff45388cf14",
   "metadata": {},
   "outputs": [
    {
     "name": "stdout",
     "output_type": "stream",
     "text": [
      "Withdrawal successful.\n"
     ]
    }
   ],
   "source": [
    "account.withdraw(500)"
   ]
  },
  {
   "cell_type": "code",
   "execution_count": 22,
   "id": "2358a458-8a41-4b90-abed-01caac2c25c9",
   "metadata": {},
   "outputs": [
    {
     "data": {
      "text/plain": [
       "500"
      ]
     },
     "execution_count": 22,
     "metadata": {},
     "output_type": "execute_result"
    }
   ],
   "source": [
    "account.balance"
   ]
  },
  {
   "cell_type": "markdown",
   "id": "d51fa7c5-d5b5-456c-9f8b-920f2cca1d84",
   "metadata": {},
   "source": [
    "6.  create a custom exception class . use this class to handle an exception "
   ]
  },
  {
   "cell_type": "code",
   "execution_count": 23,
   "id": "f7a62d13-f318-4729-8fde-482d7150da6e",
   "metadata": {},
   "outputs": [
    {
     "name": "stdin",
     "output_type": "stream",
     "text": [
      "Enter the recipient's email:  sonu800@gmail.com\n"
     ]
    },
    {
     "name": "stdout",
     "output_type": "stream",
     "text": [
      "Email sent successfully.\n"
     ]
    }
   ],
   "source": [
    "class InvalidEmailError(Exception):\n",
    "    def __init__(self, email):\n",
    "        self.email = email\n",
    "        self.message = f\"The email '{email}' is invalid.\"\n",
    "\n",
    "def send_email(email):\n",
    "    if \"@\" not in email:\n",
    "        raise InvalidEmailError(email)\n",
    "    # Code to send the email...\n",
    "\n",
    "try:\n",
    "    recipient_email = input(\"Enter the recipient's email: \")\n",
    "    send_email(recipient_email)\n",
    "    print(\"Email sent successfully.\")\n",
    "except InvalidEmailError as e:\n",
    "    print(\"Error:\", e.message)"
   ]
  },
  {
   "cell_type": "code",
   "execution_count": 25,
   "id": "e7696747-0980-4739-9545-ac169f6431f2",
   "metadata": {},
   "outputs": [
    {
     "data": {
      "text/plain": [
       "'Sonu800@gmail.com'"
      ]
     },
     "execution_count": 25,
     "metadata": {},
     "output_type": "execute_result"
    }
   ],
   "source": [
    "recipient_email.capitalize()"
   ]
  },
  {
   "cell_type": "code",
   "execution_count": 27,
   "id": "98a9d207-40da-48dd-8118-5fbca62cd9cf",
   "metadata": {},
   "outputs": [
    {
     "data": {
      "text/plain": [
       "'sonu800@gmail.com'"
      ]
     },
     "execution_count": 27,
     "metadata": {},
     "output_type": "execute_result"
    }
   ],
   "source": [
    "recipient_email.casefold()"
   ]
  },
  {
   "cell_type": "code",
   "execution_count": null,
   "id": "5dcc5894-4118-4e46-adba-b9a688648c99",
   "metadata": {},
   "outputs": [],
   "source": []
  }
 ],
 "metadata": {
  "kernelspec": {
   "display_name": "Python 3 (ipykernel)",
   "language": "python",
   "name": "python3"
  },
  "language_info": {
   "codemirror_mode": {
    "name": "ipython",
    "version": 3
   },
   "file_extension": ".py",
   "mimetype": "text/x-python",
   "name": "python",
   "nbconvert_exporter": "python",
   "pygments_lexer": "ipython3",
   "version": "3.10.8"
  }
 },
 "nbformat": 4,
 "nbformat_minor": 5
}
